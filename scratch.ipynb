{
 "cells": [
  {
   "cell_type": "code",
   "execution_count": 3,
   "metadata": {},
   "outputs": [
    {
     "data": {
      "text/plain": [
       "GeoEncodedAddress(input_address='1600 Amphitheatre Parkway, Mountain View, CA', output_address='1600 Amphitheatre Pkwy, Mountain View, CA 94043, USA', lat=37.4232854, lon=-122.0848324, address_hash=None, region=None)"
      ]
     },
     "execution_count": 3,
     "metadata": {},
     "output_type": "execute_result"
    }
   ],
   "source": [
    "import googlemaps\n",
    "import dotenv\n",
    "import os\n",
    "import dataclasses\n",
    "\n",
    "\n",
    "dotenv.load_dotenv()\n",
    "\n",
    "GOOGLE_MAPS_KEY = os.getenv(\"GOOGLE_MAPS_KEY\")\n",
    "\n",
    "gmaps = googlemaps.Client(key=GOOGLE_MAPS_KEY)\n",
    "\n",
    "@dataclasses.dataclass\n",
    "class GeoEncodedAddress():\n",
    "    input_address: str\n",
    "    output_address: str\n",
    "    lat: float\n",
    "    lon: float\n",
    "    address_hash: str | None = None\n",
    "    region: str | None = None\n",
    "\n",
    "\n",
    "\n",
    "\n",
    "def encode_address(address: str, client: googlemaps.Client) -> GeoEncodedAddress:\n",
    "    geocode_result = client.geocode(address)\n",
    "    \n",
    "    if len(geocode_result) == 0:\n",
    "        raise ValueError(\"No results found\")\n",
    "    geocode_result = geocode_result[0]\n",
    "\n",
    "    output_address = geocode_result[\"formatted_address\"]\n",
    "    lat = geocode_result[\"geometry\"][\"location\"][\"lat\"]\n",
    "    lon = geocode_result[\"geometry\"][\"location\"][\"lng\"]\n",
    "\n",
    "    return GeoEncodedAddress(input_address=address, output_address=output_address, lat=lat, lon=lon)\n",
    "\n",
    "\n",
    "encode_address(\"1600 Amphitheatre Parkway, Mountain View, CA\", gmaps)"
   ]
  }
 ],
 "metadata": {
  "kernelspec": {
   "display_name": "Python 3",
   "language": "python",
   "name": "python3"
  },
  "language_info": {
   "codemirror_mode": {
    "name": "ipython",
    "version": 3
   },
   "file_extension": ".py",
   "mimetype": "text/x-python",
   "name": "python",
   "nbconvert_exporter": "python",
   "pygments_lexer": "ipython3",
   "version": "3.11.9"
  }
 },
 "nbformat": 4,
 "nbformat_minor": 2
}
